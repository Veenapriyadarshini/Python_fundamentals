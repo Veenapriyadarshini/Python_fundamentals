{
 "cells": [
  {
   "cell_type": "code",
   "execution_count": 7,
   "metadata": {},
   "outputs": [
    {
     "name": "stdout",
     "output_type": "stream",
     "text": [
      "['tulip', 'rose', 'sunflower', 'lavender', 'lotus']\n"
     ]
    },
    {
     "data": {
      "text/plain": [
       "list"
      ]
     },
     "execution_count": 7,
     "metadata": {},
     "output_type": "execute_result"
    }
   ],
   "source": [
    "Flowers = ['tulip','rose','sunflower','lavender','lotus']# List\n",
    "print(Flowers)\n",
    "type(Flowers)"
   ]
  },
  {
   "cell_type": "code",
   "execution_count": 8,
   "metadata": {},
   "outputs": [
    {
     "name": "stdout",
     "output_type": "stream",
     "text": [
      "lavender\n"
     ]
    }
   ],
   "source": [
    "print(Flowers[3])# to know the index position of 3"
   ]
  },
  {
   "cell_type": "code",
   "execution_count": 9,
   "metadata": {},
   "outputs": [
    {
     "name": "stdout",
     "output_type": "stream",
     "text": [
      "lotus\n"
     ]
    }
   ],
   "source": [
    "print(Flowers[-1])"
   ]
  },
  {
   "cell_type": "code",
   "execution_count": 12,
   "metadata": {},
   "outputs": [
    {
     "name": "stdout",
     "output_type": "stream",
     "text": [
      "sunflower\n",
      "Sunflower\n",
      "SUNFLOWER\n"
     ]
    }
   ],
   "source": [
    "print(Flowers[-3]) # Enhancement of list\n",
    "print(Flowers[-3].title())\n",
    "print(Flowers[-3].upper())"
   ]
  },
  {
   "cell_type": "code",
   "execution_count": 14,
   "metadata": {},
   "outputs": [
    {
     "name": "stdout",
     "output_type": "stream",
     "text": [
      "['tulip', 'Jasmine', 'sunflower', 'lavender', 'lotus']\n"
     ]
    }
   ],
   "source": [
    "Flowers = ['tulip','rose','sunflower','lavender','lotus'] # replaced rose with Jasmine\n",
    "Flowers[1]='Jasmine'\n",
    "print(Flowers)"
   ]
  },
  {
   "cell_type": "code",
   "execution_count": 20,
   "metadata": {},
   "outputs": [
    {
     "name": "stdout",
     "output_type": "stream",
     "text": [
      "['tulip', 'Jasmine', 'sunflower', 'lavender', 'lotus', 'lily', 'lily', 'lily', 'lily', 'Lily']\n"
     ]
    }
   ],
   "source": [
    "Flowers.append('Lily')# To add lily to the list\n",
    "print(Flowers)"
   ]
  },
  {
   "cell_type": "code",
   "execution_count": 21,
   "metadata": {},
   "outputs": [
    {
     "name": "stdout",
     "output_type": "stream",
     "text": [
      "['tulip', 'Jasmine', 'sunflower', 'shoeflower', 'lavender', 'lotus', 'lily', 'lily', 'lily', 'lily', 'Lily']\n"
     ]
    }
   ],
   "source": [
    "Flowers.insert(3,'shoeflower') # insert shoeflower in index 3\n",
    "print(Flowers)"
   ]
  },
  {
   "cell_type": "code",
   "execution_count": null,
   "metadata": {},
   "outputs": [],
   "source": []
  },
  {
   "cell_type": "code",
   "execution_count": null,
   "metadata": {},
   "outputs": [],
   "source": []
  },
  {
   "cell_type": "code",
   "execution_count": null,
   "metadata": {},
   "outputs": [],
   "source": []
  },
  {
   "cell_type": "code",
   "execution_count": null,
   "metadata": {},
   "outputs": [],
   "source": []
  },
  {
   "cell_type": "code",
   "execution_count": null,
   "metadata": {},
   "outputs": [],
   "source": []
  },
  {
   "cell_type": "code",
   "execution_count": null,
   "metadata": {},
   "outputs": [],
   "source": []
  }
 ],
 "metadata": {
  "kernelspec": {
   "display_name": "Python 3",
   "language": "python",
   "name": "python3"
  },
  "language_info": {
   "codemirror_mode": {
    "name": "ipython",
    "version": 3
   },
   "file_extension": ".py",
   "mimetype": "text/x-python",
   "name": "python",
   "nbconvert_exporter": "python",
   "pygments_lexer": "ipython3",
   "version": "3.7.4"
  }
 },
 "nbformat": 4,
 "nbformat_minor": 2
}
