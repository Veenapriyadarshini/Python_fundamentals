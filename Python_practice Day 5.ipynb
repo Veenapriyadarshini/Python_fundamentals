{
 "cells": [
  {
   "cell_type": "code",
   "execution_count": 2,
   "metadata": {},
   "outputs": [
    {
     "name": "stdout",
     "output_type": "stream",
     "text": [
      "['tulip', 'rose', 'sunflower', 'lavender', 'lotus']\n"
     ]
    }
   ],
   "source": [
    "Flowers = ['tulip','rose','sunflower','lavender','lotus']\n",
    "print(Flowers)"
   ]
  },
  {
   "cell_type": "code",
   "execution_count": 5,
   "metadata": {},
   "outputs": [
    {
     "name": "stdout",
     "output_type": "stream",
     "text": [
      "['tulip', 'rose', 'sunflower', 'lotus']\n"
     ]
    }
   ],
   "source": [
    "del Flowers[3] # to delete an element index 3 from the list\n",
    "print(Flowers)"
   ]
  },
  {
   "cell_type": "code",
   "execution_count": 6,
   "metadata": {},
   "outputs": [
    {
     "name": "stdout",
     "output_type": "stream",
     "text": [
      "['tulip', 'rose', 'sunflower', 'lavender']\n"
     ]
    }
   ],
   "source": [
    "Flowers = ['tulip','rose','sunflower','lavender','lotus']\n",
    "Flowers.pop()\n",
    "print(Flowers)"
   ]
  },
  {
   "cell_type": "code",
   "execution_count": 7,
   "metadata": {},
   "outputs": [
    {
     "data": {
      "text/plain": [
       "'lavender'"
      ]
     },
     "execution_count": 7,
     "metadata": {},
     "output_type": "execute_result"
    }
   ],
   "source": [
    "Flowers.pop()"
   ]
  },
  {
   "cell_type": "code",
   "execution_count": 9,
   "metadata": {},
   "outputs": [
    {
     "name": "stdout",
     "output_type": "stream",
     "text": [
      "['tulip', 'rose', 'sunflower']\n"
     ]
    },
    {
     "data": {
      "text/plain": [
       "'rose'"
      ]
     },
     "execution_count": 9,
     "metadata": {},
     "output_type": "execute_result"
    }
   ],
   "source": [
    "print(Flowers)# removing an element from the last\n",
    "Flowers.pop(1)"
   ]
  },
  {
   "cell_type": "code",
   "execution_count": 18,
   "metadata": {},
   "outputs": [
    {
     "name": "stdout",
     "output_type": "stream",
     "text": [
      "['tulip', 'rose', 'sunflower', 'lavender', 'lotus']\n",
      "['lavender', 'lotus', 'rose', 'sunflower', 'tulip']\n",
      "['lavender', 'lotus', 'rose', 'sunflower', 'tulip']\n",
      "['tulip', 'sunflower', 'rose', 'lotus', 'lavender']\n"
     ]
    }
   ],
   "source": [
    "Flowers = ['tulip','rose','sunflower','lavender','lotus']\n",
    "print(Flowers)\n",
    "print(sorted(Flowers))#temporary sorting\n",
    "Flowers.sort() #permanent sorting\n",
    "print(Flowers)\n",
    "Flowers.sort(reverse=True)# reverse sorting\n",
    "print(Flowers)"
   ]
  },
  {
   "cell_type": "code",
   "execution_count": null,
   "metadata": {},
   "outputs": [],
   "source": []
  },
  {
   "cell_type": "code",
   "execution_count": null,
   "metadata": {},
   "outputs": [],
   "source": []
  },
  {
   "cell_type": "code",
   "execution_count": null,
   "metadata": {},
   "outputs": [],
   "source": []
  },
  {
   "cell_type": "code",
   "execution_count": null,
   "metadata": {},
   "outputs": [],
   "source": []
  }
 ],
 "metadata": {
  "kernelspec": {
   "display_name": "Python 3",
   "language": "python",
   "name": "python3"
  },
  "language_info": {
   "codemirror_mode": {
    "name": "ipython",
    "version": 3
   },
   "file_extension": ".py",
   "mimetype": "text/x-python",
   "name": "python",
   "nbconvert_exporter": "python",
   "pygments_lexer": "ipython3",
   "version": "3.7.4"
  }
 },
 "nbformat": 4,
 "nbformat_minor": 2
}
